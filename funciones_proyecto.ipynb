{
 "cells": [
  {
   "cell_type": "code",
   "execution_count": 10,
   "metadata": {},
   "outputs": [],
   "source": [
    "from fastapi import FastAPI\n",
    "import nest_asyncio\n",
    "import uvicorn\n",
    "import pandas as pd \n"
   ]
  },
  {
   "cell_type": "code",
   "execution_count": 9,
   "metadata": {},
   "outputs": [],
   "source": [
    "from flask import Flask, jsonify, request\n"
   ]
  },
  {
   "cell_type": "code",
   "execution_count": 15,
   "metadata": {},
   "outputs": [],
   "source": [
    "import pandas as pd\n",
    "\n",
    "# Leer el archivo Parquet\n",
    "\n",
    "#df_funcion_developer = pd.read_parquet('Para funcion developer of the year.parquet')\n",
    "\n",
    "df_funcion_user_for_genre = pd.read_parquet('Para funcion user for genre.parquet')\n",
    "df_funcion_best_developer_of_the_year = pd.read_parquet('Para funcion developer.parquet')\n",
    "# Mostrar las primeras filas del DataFrame\n"
   ]
  },
  {
   "cell_type": "code",
   "execution_count": 20,
   "metadata": {},
   "outputs": [],
   "source": [
    "df_quees = pd.read_parquet('Para funcion best developer of the year.parquet')"
   ]
  },
  {
   "cell_type": "code",
   "execution_count": 21,
   "metadata": {},
   "outputs": [
    {
     "data": {
      "text/html": [
       "<div>\n",
       "<style scoped>\n",
       "    .dataframe tbody tr th:only-of-type {\n",
       "        vertical-align: middle;\n",
       "    }\n",
       "\n",
       "    .dataframe tbody tr th {\n",
       "        vertical-align: top;\n",
       "    }\n",
       "\n",
       "    .dataframe thead th {\n",
       "        text-align: right;\n",
       "    }\n",
       "</style>\n",
       "<table border=\"1\" class=\"dataframe\">\n",
       "  <thead>\n",
       "    <tr style=\"text-align: right;\">\n",
       "      <th></th>\n",
       "      <th>item_id</th>\n",
       "      <th>true_sentiment_from_recommend</th>\n",
       "      <th>sentiment_analysis2</th>\n",
       "      <th>developer</th>\n",
       "      <th>release_date</th>\n",
       "    </tr>\n",
       "  </thead>\n",
       "  <tbody>\n",
       "    <tr>\n",
       "      <th>0</th>\n",
       "      <td>1250</td>\n",
       "      <td>2</td>\n",
       "      <td>2</td>\n",
       "      <td>tripwire interactive</td>\n",
       "      <td>2009-05-14</td>\n",
       "    </tr>\n",
       "    <tr>\n",
       "      <th>1</th>\n",
       "      <td>22200</td>\n",
       "      <td>2</td>\n",
       "      <td>2</td>\n",
       "      <td>ace team</td>\n",
       "      <td>2009-04-21</td>\n",
       "    </tr>\n",
       "    <tr>\n",
       "      <th>2</th>\n",
       "      <td>227300</td>\n",
       "      <td>2</td>\n",
       "      <td>1</td>\n",
       "      <td>scs software</td>\n",
       "      <td>2013-01-16</td>\n",
       "    </tr>\n",
       "    <tr>\n",
       "      <th>3</th>\n",
       "      <td>239030</td>\n",
       "      <td>2</td>\n",
       "      <td>1</td>\n",
       "      <td>3909</td>\n",
       "      <td>2013-08-08</td>\n",
       "    </tr>\n",
       "    <tr>\n",
       "      <th>4</th>\n",
       "      <td>248820</td>\n",
       "      <td>2</td>\n",
       "      <td>2</td>\n",
       "      <td>hopoo games, llc</td>\n",
       "      <td>2013-11-08</td>\n",
       "    </tr>\n",
       "    <tr>\n",
       "      <th>...</th>\n",
       "      <td>...</td>\n",
       "      <td>...</td>\n",
       "      <td>...</td>\n",
       "      <td>...</td>\n",
       "      <td>...</td>\n",
       "    </tr>\n",
       "    <tr>\n",
       "      <th>53981</th>\n",
       "      <td>70</td>\n",
       "      <td>2</td>\n",
       "      <td>2</td>\n",
       "      <td>valve</td>\n",
       "      <td>1998-11-08</td>\n",
       "    </tr>\n",
       "    <tr>\n",
       "      <th>53982</th>\n",
       "      <td>362890</td>\n",
       "      <td>2</td>\n",
       "      <td>2</td>\n",
       "      <td>crowbar collective</td>\n",
       "      <td>2015-05-05</td>\n",
       "    </tr>\n",
       "    <tr>\n",
       "      <th>53983</th>\n",
       "      <td>273110</td>\n",
       "      <td>2</td>\n",
       "      <td>1</td>\n",
       "      <td>nexon</td>\n",
       "      <td>2014-10-07</td>\n",
       "    </tr>\n",
       "    <tr>\n",
       "      <th>53984</th>\n",
       "      <td>730</td>\n",
       "      <td>2</td>\n",
       "      <td>1</td>\n",
       "      <td>valve</td>\n",
       "      <td>2012-08-21</td>\n",
       "    </tr>\n",
       "    <tr>\n",
       "      <th>53985</th>\n",
       "      <td>440</td>\n",
       "      <td>2</td>\n",
       "      <td>2</td>\n",
       "      <td>valve</td>\n",
       "      <td>2007-10-10</td>\n",
       "    </tr>\n",
       "  </tbody>\n",
       "</table>\n",
       "<p>53986 rows × 5 columns</p>\n",
       "</div>"
      ],
      "text/plain": [
       "       item_id  true_sentiment_from_recommend  sentiment_analysis2  \\\n",
       "0         1250                              2                    2   \n",
       "1        22200                              2                    2   \n",
       "2       227300                              2                    1   \n",
       "3       239030                              2                    1   \n",
       "4       248820                              2                    2   \n",
       "...        ...                            ...                  ...   \n",
       "53981       70                              2                    2   \n",
       "53982   362890                              2                    2   \n",
       "53983   273110                              2                    1   \n",
       "53984      730                              2                    1   \n",
       "53985      440                              2                    2   \n",
       "\n",
       "                  developer release_date  \n",
       "0      tripwire interactive   2009-05-14  \n",
       "1                  ace team   2009-04-21  \n",
       "2              scs software   2013-01-16  \n",
       "3                      3909   2013-08-08  \n",
       "4          hopoo games, llc   2013-11-08  \n",
       "...                     ...          ...  \n",
       "53981                 valve   1998-11-08  \n",
       "53982    crowbar collective   2015-05-05  \n",
       "53983                 nexon   2014-10-07  \n",
       "53984                 valve   2012-08-21  \n",
       "53985                 valve   2007-10-10  \n",
       "\n",
       "[53986 rows x 5 columns]"
      ]
     },
     "execution_count": 21,
     "metadata": {},
     "output_type": "execute_result"
    }
   ],
   "source": [
    "df_quees"
   ]
  },
  {
   "cell_type": "code",
   "execution_count": null,
   "metadata": {},
   "outputs": [],
   "source": [
    "df_funcion_best_developer_of_the_year"
   ]
  },
  {
   "cell_type": "code",
   "execution_count": 12,
   "metadata": {},
   "outputs": [],
   "source": [
    "df_funcion_developer_review = pd.read_parquet('Para funcion developer reviews analisis.parquet')\n"
   ]
  },
  {
   "cell_type": "code",
   "execution_count": 8,
   "metadata": {},
   "outputs": [
    {
     "name": "stderr",
     "output_type": "stream",
     "text": [
      "INFO:     Started server process [9684]\n",
      "INFO:     Waiting for application startup.\n",
      "INFO:     Application startup complete.\n",
      "INFO:     Uvicorn running on http://127.0.0.1:8080 (Press CTRL+C to quit)\n"
     ]
    },
    {
     "name": "stdout",
     "output_type": "stream",
     "text": [
      "INFO:     127.0.0.1:56950 - \"GET / HTTP/1.1\" 404 Not Found\n",
      "INFO:     127.0.0.1:56956 - \"GET / HTTP/1.1\" 404 Not Found\n"
     ]
    },
    {
     "name": "stderr",
     "output_type": "stream",
     "text": [
      "INFO:     Shutting down\n",
      "INFO:     Waiting for application shutdown.\n",
      "INFO:     Application shutdown complete.\n",
      "INFO:     Finished server process [9684]\n"
     ]
    }
   ],
   "source": [
    "app = FastAPI()\n",
    "\n",
    "nest_asyncio.apply()\n",
    "@app.get(\"/items-per-year/\")\n",
    "async def items_per_year():\n",
    "    # Agrupar los datos por año y empresa desarrolladora\n",
    "    grouped = df_funcion_developer(['year', 'developer']).agg(\n",
    "        total_items=('items_count', 'sum'),\n",
    "        free_items=('price_normalized', lambda x: (x == 0).sum())\n",
    "    ).reset_index()\n",
    "\n",
    "    # Calcular el porcentaje de items Free\n",
    "    grouped['free_percentage'] = (grouped['free_items'] / grouped['total_items']) * 100\n",
    "\n",
    "    # Reorganizar el dataframe para presentarlo en un formato más adecuado\n",
    "    result = grouped[['year', 'developer', 'total_items', 'free_percentage']]\n",
    "\n",
    "    # Convertir el dataframe a una lista de diccionarios para el retorno\n",
    "    result_list = result.to_dict(orient='records')\n",
    "\n",
    "    return result_list\n",
    "\n",
    "# Ejecutar FastAPI en Jupyter\n",
    "\n",
    "uvicorn.run(app, host= \"127.0.0.1\", port=8080)"
   ]
  },
  {
   "cell_type": "code",
   "execution_count": 26,
   "metadata": {},
   "outputs": [
    {
     "name": "stderr",
     "output_type": "stream",
     "text": [
      "Task exception was never retrieved\n",
      "future: <Task finished name='Task-59' coro=<Server.serve() done, defined at C:\\Users\\h98go\\AppData\\Local\\Packages\\PythonSoftwareFoundation.Python.3.12_qbz5n2kfra8p0\\LocalCache\\local-packages\\Python312\\site-packages\\uvicorn\\server.py:67> exception=KeyboardInterrupt()>\n",
      "Traceback (most recent call last):\n",
      "  File \"C:\\Users\\h98go\\AppData\\Local\\Packages\\PythonSoftwareFoundation.Python.3.12_qbz5n2kfra8p0\\LocalCache\\local-packages\\Python312\\site-packages\\uvicorn\\main.py\", line 577, in run\n",
      "    server.run()\n",
      "  File \"C:\\Users\\h98go\\AppData\\Local\\Packages\\PythonSoftwareFoundation.Python.3.12_qbz5n2kfra8p0\\LocalCache\\local-packages\\Python312\\site-packages\\uvicorn\\server.py\", line 65, in run\n",
      "    return asyncio.run(self.serve(sockets=sockets))\n",
      "           ^^^^^^^^^^^^^^^^^^^^^^^^^^^^^^^^^^^^^^^^\n",
      "  File \"C:\\Users\\h98go\\AppData\\Local\\Packages\\PythonSoftwareFoundation.Python.3.12_qbz5n2kfra8p0\\LocalCache\\local-packages\\Python312\\site-packages\\nest_asyncio.py\", line 30, in run\n",
      "    return loop.run_until_complete(task)\n",
      "           ^^^^^^^^^^^^^^^^^^^^^^^^^^^^^\n",
      "  File \"C:\\Users\\h98go\\AppData\\Local\\Packages\\PythonSoftwareFoundation.Python.3.12_qbz5n2kfra8p0\\LocalCache\\local-packages\\Python312\\site-packages\\nest_asyncio.py\", line 92, in run_until_complete\n",
      "    self._run_once()\n",
      "  File \"C:\\Users\\h98go\\AppData\\Local\\Packages\\PythonSoftwareFoundation.Python.3.12_qbz5n2kfra8p0\\LocalCache\\local-packages\\Python312\\site-packages\\nest_asyncio.py\", line 133, in _run_once\n",
      "    handle._run()\n",
      "  File \"C:\\Program Files\\WindowsApps\\PythonSoftwareFoundation.Python.3.12_3.12.2032.0_x64__qbz5n2kfra8p0\\Lib\\asyncio\\events.py\", line 88, in _run\n",
      "    self._context.run(self._callback, *self._args)\n",
      "  File \"C:\\Program Files\\WindowsApps\\PythonSoftwareFoundation.Python.3.12_3.12.2032.0_x64__qbz5n2kfra8p0\\Lib\\asyncio\\tasks.py\", line 396, in __wakeup\n",
      "    self.__step()\n",
      "  File \"C:\\Program Files\\WindowsApps\\PythonSoftwareFoundation.Python.3.12_3.12.2032.0_x64__qbz5n2kfra8p0\\Lib\\asyncio\\tasks.py\", line 303, in __step\n",
      "    self.__step_run_and_handle_result(exc)\n",
      "  File \"C:\\Program Files\\WindowsApps\\PythonSoftwareFoundation.Python.3.12_3.12.2032.0_x64__qbz5n2kfra8p0\\Lib\\asyncio\\tasks.py\", line 314, in __step_run_and_handle_result\n",
      "    result = coro.send(None)\n",
      "             ^^^^^^^^^^^^^^^\n",
      "  File \"C:\\Users\\h98go\\AppData\\Local\\Packages\\PythonSoftwareFoundation.Python.3.12_qbz5n2kfra8p0\\LocalCache\\local-packages\\Python312\\site-packages\\uvicorn\\server.py\", line 68, in serve\n",
      "    with self.capture_signals():\n",
      "         ^^^^^^^^^^^^^^^^^^^^^^\n",
      "  File \"C:\\Program Files\\WindowsApps\\PythonSoftwareFoundation.Python.3.12_3.12.2032.0_x64__qbz5n2kfra8p0\\Lib\\contextlib.py\", line 144, in __exit__\n",
      "    next(self.gen)\n",
      "  File \"C:\\Users\\h98go\\AppData\\Local\\Packages\\PythonSoftwareFoundation.Python.3.12_qbz5n2kfra8p0\\LocalCache\\local-packages\\Python312\\site-packages\\uvicorn\\server.py\", line 328, in capture_signals\n",
      "    signal.raise_signal(captured_signal)\n",
      "KeyboardInterrupt\n",
      "INFO:     Started server process [14548]\n",
      "INFO:     Waiting for application startup.\n",
      "INFO:     Application startup complete.\n",
      "INFO:     Uvicorn running on http://127.0.0.1:8080 (Press CTRL+C to quit)\n"
     ]
    },
    {
     "name": "stdout",
     "output_type": "stream",
     "text": [
      "INFO:     127.0.0.1:51055 - \"GET / HTTP/1.1\" 404 Not Found\n"
     ]
    },
    {
     "name": "stderr",
     "output_type": "stream",
     "text": [
      "INFO:     Shutting down\n",
      "INFO:     Waiting for application shutdown.\n",
      "INFO:     Application shutdown complete.\n",
      "INFO:     Finished server process [14548]\n"
     ]
    }
   ],
   "source": [
    "@app.get(\"/top-developers-recommendations/\")\n",
    "async def top_developers_recommendations(year: int):\n",
    "    # Extraer el año de la columna 'release_date'\n",
    "    df_quees['release_year'] = df_quees['release_date'].dt.year\n",
    "\n",
    "    # Filtrar los datos por el año de lanzamiento\n",
    "    filtered_df = df_quees[df_quees['release_year'] == year]\n",
    "\n",
    "    if filtered_df.empty:\n",
    "        return {\"error\": \"No se encontraron datos para el año especificado\"}\n",
    "\n",
    "    # Filtrar solo los juegos que han sido recomendados (true_sentiment_from_recommend == 1)\n",
    "    recommended_df = filtered_df[filtered_df['true_sentiment_from_recommend'] == 1]\n",
    "\n",
    "    if recommended_df.empty:\n",
    "        return {\"message\": \"No se encontraron recomendaciones para el año especificado\"}\n",
    "\n",
    "    # Contar las recomendaciones por desarrollador\n",
    "    developer_recommendations = recommended_df.groupby('developer')['true_sentiment_from_recommend'].count()\n",
    "\n",
    "    # Obtener el top 3 de desarrolladores con más recomendaciones\n",
    "    top_3_developers = developer_recommendations.nlargest(3).reset_index()\n",
    "\n",
    "    # Convertir el resultado a una lista de diccionarios para devolverlo como JSON\n",
    "    top_3_list = top_3_developers.to_dict(orient='records')\n",
    "\n",
    "    return {\n",
    "        \"year\": year,\n",
    "        \"top_3_developers\": top_3_list\n",
    "    }\n",
    "\n",
    "# Ejecutar FastAPI en Jupyter Notebook\n",
    "nest_asyncio.apply()\n",
    "uvicorn.run(app, host=\"127.0.0.1\", port=8080)"
   ]
  },
  {
   "cell_type": "code",
   "execution_count": 13,
   "metadata": {},
   "outputs": [
    {
     "name": "stderr",
     "output_type": "stream",
     "text": [
      "INFO:     Started server process [14548]\n",
      "INFO:     Waiting for application startup.\n",
      "INFO:     Application startup complete.\n",
      "INFO:     Uvicorn running on http://127.0.0.1:8000 (Press CTRL+C to quit)\n"
     ]
    },
    {
     "name": "stdout",
     "output_type": "stream",
     "text": [
      "INFO:     127.0.0.1:50763 - \"GET / HTTP/1.1\" 404 Not Found\n",
      "INFO:     127.0.0.1:50772 - \"GET /developer-sentiment/?developer=%3Ckoei%3E HTTP/1.1\" 200 OK\n",
      "INFO:     127.0.0.1:50777 - \"GET /developer-sentiment/?developer=%3Cvalvei%3E HTTP/1.1\" 200 OK\n",
      "INFO:     127.0.0.1:50778 - \"GET /developer-sentiment/?developer=%3Cvalve%3E HTTP/1.1\" 200 OK\n"
     ]
    },
    {
     "name": "stderr",
     "output_type": "stream",
     "text": [
      "INFO:     Shutting down\n",
      "INFO:     Waiting for application shutdown.\n",
      "INFO:     Application shutdown complete.\n",
      "INFO:     Finished server process [14548]\n"
     ]
    }
   ],
   "source": [
    "app = FastAPI()\n",
    "@app.get(\"/developer-sentiment/\")\n",
    "async def developer_sentiment(developer: str):\n",
    "    # Filtrar el DataFrame por el desarrollador dado\n",
    "    developer_df = df_funcion_developer_review[df_funcion_developer_review['developer'] == developer]\n",
    "\n",
    "    if developer_df.empty:\n",
    "        return {\"error\": f\"No se encontraron reseñas para el desarrollador {developer}\"}\n",
    "\n",
    "    # Contar las reseñas positivas (sentiment_analysis2 == 2)\n",
    "    positive_count = (developer_df['sentiment_analysis2'] == 2).sum()\n",
    "\n",
    "    # Contar las reseñas negativas (sentiment_analysis2 == 0)\n",
    "    negative_count = (developer_df['sentiment_analysis2'] == 0).sum()\n",
    "\n",
    "    # Crear un diccionario con el nombre del desarrollador como llave\n",
    "    result = {\n",
    "        developer: {\n",
    "            \"positive_reviews\": positive_count,\n",
    "            \"negative_reviews\": negative_count\n",
    "        }\n",
    "    }\n",
    "\n",
    "    return result\n",
    "\n",
    "# Ejecutar FastAPI en Jupyter Notebook\n",
    "nest_asyncio.apply()\n",
    "uvicorn.run(app, host=\"127.0.0.1\", port=8000)"
   ]
  }
 ],
 "metadata": {
  "kernelspec": {
   "display_name": "Python 3",
   "language": "python",
   "name": "python3"
  },
  "language_info": {
   "codemirror_mode": {
    "name": "ipython",
    "version": 3
   },
   "file_extension": ".py",
   "mimetype": "text/x-python",
   "name": "python",
   "nbconvert_exporter": "python",
   "pygments_lexer": "ipython3",
   "version": "3.12.7"
  }
 },
 "nbformat": 4,
 "nbformat_minor": 2
}
